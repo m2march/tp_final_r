{
 "cells": [
  {
   "cell_type": "code",
   "execution_count": 1,
   "metadata": {
    "collapsed": true
   },
   "outputs": [],
   "source": [
    "options(repr.plot.width=8,repr.plot.height=4)"
   ]
  },
  {
   "cell_type": "code",
   "execution_count": 2,
   "metadata": {
    "collapsed": true
   },
   "outputs": [],
   "source": [
    "library(DBI)"
   ]
  },
  {
   "cell_type": "code",
   "execution_count": 3,
   "metadata": {
    "collapsed": true
   },
   "outputs": [],
   "source": [
    "con <- dbConnect(RSQLite::SQLite(), 'datasets/wjazzd.db')"
   ]
  },
  {
   "cell_type": "code",
   "execution_count": 4,
   "metadata": {
    "collapsed": true
   },
   "outputs": [],
   "source": [
    "solos <- dbReadTable(con, 'solo_info')"
   ]
  },
  {
   "cell_type": "code",
   "execution_count": 5,
   "metadata": {
    "collapsed": true
   },
   "outputs": [],
   "source": [
    "solos.44 <- solos[solos$signature == '4/4',]"
   ]
  },
  {
   "cell_type": "code",
   "execution_count": 6,
   "metadata": {
    "collapsed": true
   },
   "outputs": [],
   "source": [
    "melody <- dbReadTable(con, 'melody')"
   ]
  },
  {
   "cell_type": "code",
   "execution_count": 7,
   "metadata": {
    "collapsed": true
   },
   "outputs": [],
   "source": [
    "s <- solos.44[solos.44$melid == 1,]"
   ]
  },
  {
   "cell_type": "code",
   "execution_count": 8,
   "metadata": {
    "collapsed": true
   },
   "outputs": [],
   "source": [
    "m <- melody[melody$melid == 1,]"
   ]
  },
  {
   "cell_type": "code",
   "execution_count": 9,
   "metadata": {},
   "outputs": [
    {
     "data": {
      "text/plain": [
       "\n",
       "            A-min       Ab   Ab-maj   Ab-mix    B-maj Bb-blues   Bb-maj \n",
       "      18        2        1       33        1        2        1       74 \n",
       "  Bb-min  C-chrom    C-maj    C-min   C#-maj  D-chrom    D-dor    D-maj \n",
       "       3        2       35       20        1        3        1       10 \n",
       "   D-min   D#-maj Db-chrom   Db-maj   Db-min    E-min Eb-chrom   Eb-maj \n",
       "       9        1        1       31        1        2        1       55 \n",
       "  Eb-min    F-maj    F-min F#-chrom   F#-min    G-maj    G-min \n",
       "       4       69       11        1        3       24       15 "
      ]
     },
     "metadata": {},
     "output_type": "display_data"
    }
   ],
   "source": [
    "table(solos.44$key)"
   ]
  },
  {
   "cell_type": "code",
   "execution_count": 10,
   "metadata": {
    "collapsed": true
   },
   "outputs": [],
   "source": [
    "solos.44.wk <- solos.44[solos.44$key != '',]"
   ]
  },
  {
   "cell_type": "code",
   "execution_count": 11,
   "metadata": {
    "collapsed": true
   },
   "outputs": [],
   "source": [
    "key.name <- function(full_name) {\n",
    "    strsplit(full_name, '-')[[1]][1]\n",
    "}"
   ]
  },
  {
   "cell_type": "code",
   "execution_count": 12,
   "metadata": {},
   "outputs": [
    {
     "data": {
      "text/html": [
       "<ol class=list-inline>\n",
       "\t<li>'bb'</li>\n",
       "\t<li>'eb'</li>\n",
       "\t<li>'f'</li>\n",
       "\t<li>'db'</li>\n",
       "\t<li>'c'</li>\n",
       "\t<li>'g'</li>\n",
       "\t<li>'ab'</li>\n",
       "\t<li>'d'</li>\n",
       "\t<li>'f#'</li>\n",
       "\t<li>'e'</li>\n",
       "\t<li>'a'</li>\n",
       "\t<li>'b'</li>\n",
       "\t<li>'d#'</li>\n",
       "\t<li>'c#'</li>\n",
       "</ol>\n"
      ],
      "text/latex": [
       "\\begin{enumerate*}\n",
       "\\item 'bb'\n",
       "\\item 'eb'\n",
       "\\item 'f'\n",
       "\\item 'db'\n",
       "\\item 'c'\n",
       "\\item 'g'\n",
       "\\item 'ab'\n",
       "\\item 'd'\n",
       "\\item 'f\\#'\n",
       "\\item 'e'\n",
       "\\item 'a'\n",
       "\\item 'b'\n",
       "\\item 'd\\#'\n",
       "\\item 'c\\#'\n",
       "\\end{enumerate*}\n"
      ],
      "text/markdown": [
       "1. 'bb'\n",
       "2. 'eb'\n",
       "3. 'f'\n",
       "4. 'db'\n",
       "5. 'c'\n",
       "6. 'g'\n",
       "7. 'ab'\n",
       "8. 'd'\n",
       "9. 'f#'\n",
       "10. 'e'\n",
       "11. 'a'\n",
       "12. 'b'\n",
       "13. 'd#'\n",
       "14. 'c#'\n",
       "\n",
       "\n"
      ],
      "text/plain": [
       " [1] \"bb\" \"eb\" \"f\"  \"db\" \"c\"  \"g\"  \"ab\" \"d\"  \"f#\" \"e\"  \"a\"  \"b\"  \"d#\" \"c#\""
      ]
     },
     "metadata": {},
     "output_type": "display_data"
    }
   ],
   "source": [
    "unique(sapply(sapply(solos.44.wk$key, key.name), tolower))"
   ]
  },
  {
   "cell_type": "code",
   "execution_count": 13,
   "metadata": {},
   "outputs": [
    {
     "data": {
      "image/png": "[encoded data removed]",
      "text/plain": [
       "plot without title"
      ]
     },
     "metadata": {},
     "output_type": "display_data"
    }
   ],
   "source": [
    "barplot(table(melody$pitch))"
   ]
  },
  {
   "cell_type": "code",
   "execution_count": 14,
   "metadata": {
    "collapsed": true
   },
   "outputs": [],
   "source": [
    "notes = list(\n",
    "    c('c'), c('c#', 'db'), c('d'), c('d#', 'eb'), \n",
    "    c('e'), c('f'), c('f#', 'gb'), c('g'), \n",
    "    c('g#', 'ab'), c('a'), c('a#', 'bb'), c('b')\n",
    ")\n",
    "notes.to.midi_base = list()\n",
    "for (i in 1:length(notes)) {\n",
    "    for (note_name in notes[[i]]) {\n",
    "        notes.to.midi_base[[note_name]] = i - 1\n",
    "    }\n",
    "}\n",
    "key.to.midi.tonic <- function(key_name) {\n",
    "    notes.to.midi_base[[tolower(key.name(key_name))]]\n",
    "}"
   ]
  },
  {
   "cell_type": "code",
   "execution_count": 15,
   "metadata": {
    "collapsed": true
   },
   "outputs": [],
   "source": [
    "solos.key.midi = sapply(solos.44.wk$key, key.to.midi.tonic, USE.NAMES=F)"
   ]
  },
  {
   "cell_type": "code",
   "execution_count": 16,
   "metadata": {},
   "outputs": [
    {
     "data": {
      "image/png": "[encoded data removed]",
      "text/plain": [
       "plot without title"
      ]
     },
     "metadata": {},
     "output_type": "display_data"
    }
   ],
   "source": [
    "barplot(table(solos.key.midi))"
   ]
  },
  {
   "cell_type": "code",
   "execution_count": 17,
   "metadata": {
    "collapsed": true
   },
   "outputs": [],
   "source": [
    "melody.44.wk <- melody[melody$melid %in% solos.44.wk$melid,]"
   ]
  },
  {
   "cell_type": "code",
   "execution_count": 36,
   "metadata": {
    "collapsed": true
   },
   "outputs": [],
   "source": [
    "tonic_pitch_classes <- function(melid) {\n",
    "    pitches <- melody.44.wk$pitch[melody.44.wk$melid == melid]\n",
    "    normed_pitches <- pitches %% 12\n",
    "    midi_key <- solos.key.midi[solos.44.wk$melid == 1]\n",
    "    relative_pitches <- (normed_pitches - midi_key) %% 12\n",
    "    relative_pitches\n",
    "}"
   ]
  },
  {
   "cell_type": "code",
   "execution_count": 37,
   "metadata": {},
   "outputs": [],
   "source": [
    "all.tcp = c()\n",
    "for (melid in solos.44.wk$melid) {\n",
    "    all.tcp = c(all.tcp, tonic_pitch_classes(melid))\n",
    "}"
   ]
  },
  {
   "cell_type": "code",
   "execution_count": 39,
   "metadata": {},
   "outputs": [
    {
     "data": {
      "image/png": "[encoded data removed]",
      "text/plain": [
       "plot without title"
      ]
     },
     "metadata": {},
     "output_type": "display_data"
    }
   ],
   "source": [
    "barplot(table(all.tcp))"
   ]
  },
  {
   "cell_type": "code",
   "execution_count": null,
   "metadata": {
    "collapsed": true
   },
   "outputs": [],
   "source": []
  }
 ],
 "metadata": {
  "anaconda-cloud": {},
  "kernelspec": {
   "display_name": "R",
   "language": "R",
   "name": "ir"
  },
  "language_info": {
   "codemirror_mode": "r",
   "file_extension": ".r",
   "mimetype": "text/x-r-source",
   "name": "R",
   "pygments_lexer": "r",
   "version": "3.3.2"
  }
 },
 "nbformat": 4,
 "nbformat_minor": 2
}
