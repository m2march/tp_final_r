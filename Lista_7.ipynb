{
 "cells": [
  {
   "cell_type": "code",
   "execution_count": 43,
   "metadata": {
    "collapsed": true
   },
   "outputs": [],
   "source": [
    "## Ej 3\n",
    "mme.expo = function(ma) {\n",
    "    return(1 / mean(ma))\n",
    "}\n",
    "\n",
    "mme.expo.cor = function(ma) {\n",
    "    n = length(ma)\n",
    "    #return (((n-1)/n) * (n/sum(ma)))\n",
    "    return (((n-1)/n) * (n/sum(ma)))\n",
    "}"
   ]
  },
  {
   "cell_type": "code",
   "execution_count": 44,
   "metadata": {
    "collapsed": false
   },
   "outputs": [
    {
     "name": "stdout",
     "output_type": "stream",
     "text": [
      "[1] \"MME.expo\"\n"
     ]
    },
    {
     "data": {
      "text/html": [
       "<table>\n",
       "<thead><tr><th></th><th scope=col>3</th><th scope=col>5</th><th scope=col>10</th><th scope=col>20</th><th scope=col>50</th><th scope=col>100</th></tr></thead>\n",
       "<tbody>\n",
       "\t<tr><th scope=row>1</th><td>0.486161  </td><td>0.2846394 </td><td>0.1154619 </td><td>0.05100113</td><td>0.01891397</td><td>0.01322206</td></tr>\n",
       "\t<tr><th scope=row>5</th><td>2.143312  </td><td>1.1773245 </td><td>0.6545285 </td><td>0.28792308</td><td>0.09874456</td><td>0.06248758</td></tr>\n",
       "\t<tr><th scope=row>10</th><td>5.126785  </td><td>2.6234527 </td><td>1.1157700 </td><td>0.51268900</td><td>0.25156702</td><td>0.11251403</td></tr>\n",
       "</tbody>\n",
       "</table>\n"
      ],
      "text/latex": [
       "\\begin{tabular}{r|llllll}\n",
       "  & 3 & 5 & 10 & 20 & 50 & 100\\\\\n",
       "\\hline\n",
       "\t1 & 0.486161   & 0.2846394  & 0.1154619  & 0.05100113 & 0.01891397 & 0.01322206\\\\\n",
       "\t5 & 2.143312   & 1.1773245  & 0.6545285  & 0.28792308 & 0.09874456 & 0.06248758\\\\\n",
       "\t10 & 5.126785   & 2.6234527  & 1.1157700  & 0.51268900 & 0.25156702 & 0.11251403\\\\\n",
       "\\end{tabular}\n"
      ],
      "text/markdown": [
       "\n",
       "| <!--/--> | 3 | 5 | 10 | 20 | 50 | 100 | \n",
       "|---|---|---|\n",
       "| 1 | 0.486161   | 0.2846394  | 0.1154619  | 0.05100113 | 0.01891397 | 0.01322206 | \n",
       "| 5 | 2.143312   | 1.1773245  | 0.6545285  | 0.28792308 | 0.09874456 | 0.06248758 | \n",
       "| 10 | 5.126785   | 2.6234527  | 1.1157700  | 0.51268900 | 0.25156702 | 0.11251403 | \n",
       "\n",
       "\n"
      ],
      "text/plain": [
       "   3        5         10        20         50         100       \n",
       "1  0.486161 0.2846394 0.1154619 0.05100113 0.01891397 0.01322206\n",
       "5  2.143312 1.1773245 0.6545285 0.28792308 0.09874456 0.06248758\n",
       "10 5.126785 2.6234527 1.1157700 0.51268900 0.25156702 0.11251403"
      ]
     },
     "metadata": {},
     "output_type": "display_data"
    },
    {
     "name": "stdout",
     "output_type": "stream",
     "text": [
      "[1] \"MME.expo.cor\"\n"
     ]
    },
    {
     "data": {
      "text/html": [
       "<table>\n",
       "<thead><tr><th></th><th scope=col>3</th><th scope=col>5</th><th scope=col>10</th><th scope=col>20</th><th scope=col>50</th><th scope=col>100</th></tr></thead>\n",
       "<tbody>\n",
       "\t<tr><th scope=row>1</th><td>-0.05242234 </td><td>-0.02479777 </td><td> 0.01344171 </td><td>-0.003708979</td><td>0.005826104 </td><td> 0.00492002 </td></tr>\n",
       "\t<tr><th scope=row>5</th><td> 0.12549221 </td><td>-0.03148879 </td><td>-0.02291661 </td><td>-0.041685301</td><td>0.024215088 </td><td> 0.03428644 </td></tr>\n",
       "\t<tr><th scope=row>10</th><td> 0.12169366 </td><td>-0.11123300 </td><td>-0.09497513 </td><td>-0.051541247</td><td>0.008710798 </td><td>-0.03491573 </td></tr>\n",
       "</tbody>\n",
       "</table>\n"
      ],
      "text/latex": [
       "\\begin{tabular}{r|llllll}\n",
       "  & 3 & 5 & 10 & 20 & 50 & 100\\\\\n",
       "\\hline\n",
       "\t1 & -0.05242234  & -0.02479777  &  0.01344171  & -0.003708979 & 0.005826104  &  0.00492002 \\\\\n",
       "\t5 &  0.12549221  & -0.03148879  & -0.02291661  & -0.041685301 & 0.024215088  &  0.03428644 \\\\\n",
       "\t10 &  0.12169366  & -0.11123300  & -0.09497513  & -0.051541247 & 0.008710798  & -0.03491573 \\\\\n",
       "\\end{tabular}\n"
      ],
      "text/markdown": [
       "\n",
       "| <!--/--> | 3 | 5 | 10 | 20 | 50 | 100 | \n",
       "|---|---|---|\n",
       "| 1 | -0.05242234  | -0.02479777  |  0.01344171  | -0.003708979 | 0.005826104  |  0.00492002  | \n",
       "| 5 |  0.12549221  | -0.03148879  | -0.02291661  | -0.041685301 | 0.024215088  |  0.03428644  | \n",
       "| 10 |  0.12169366  | -0.11123300  | -0.09497513  | -0.051541247 | 0.008710798  | -0.03491573  | \n",
       "\n",
       "\n"
      ],
      "text/plain": [
       "   3           5           10          20           50          100        \n",
       "1  -0.05242234 -0.02479777  0.01344171 -0.003708979 0.005826104  0.00492002\n",
       "5   0.12549221 -0.03148879 -0.02291661 -0.041685301 0.024215088  0.03428644\n",
       "10  0.12169366 -0.11123300 -0.09497513 -0.051541247 0.008710798 -0.03491573"
      ]
     },
     "metadata": {},
     "output_type": "display_data"
    }
   ],
   "source": [
    "## Ej 4\n",
    "lambdas = c(1, 5, 10)\n",
    "ns = c(3, 5, 10, 20, 50, 100)\n",
    "Nrep = 1000\n",
    "sesgo_empirico = data.frame(matrix(ncol=length(ns), nrow=length(lambdas)))\n",
    "sesgo_empirico.cor = data.frame(matrix(ncol=length(ns), nrow=length(lambdas)))\n",
    "rownames(sesgo_empirico) = lambdas\n",
    "rownames(sesgo_empirico.cor) = lambdas\n",
    "colnames(sesgo_empirico) = ns\n",
    "colnames(sesgo_empirico.cor) = ns \n",
    "\n",
    "for (l_idx in 1:length(lambdas)) {\n",
    "    lambda = lambdas[l_idx]\n",
    "    for (n_idx in 1:length(ns)) {\n",
    "        n = ns[n_idx]\n",
    "        sesgo_empirico[l_idx, n_idx] = mean(sapply(1:Nrep, function(rep_idx) { \n",
    "            mme.expo(rexp(n, lambda)) - lambda \n",
    "        }))\n",
    "        sesgo_empirico.cor[l_idx, n_idx] = mean(sapply(1:Nrep, function(rep_idx) { \n",
    "            mme.expo.cor(rexp(n, lambda)) - lambda \n",
    "        }))\n",
    "    }\n",
    "}\n",
    "print('MME.expo')\n",
    "sesgo_empirico\n",
    "print('MME.expo.cor')\n",
    "sesgo_empirico.cor"
   ]
  },
  {
   "cell_type": "code",
   "execution_count": 47,
   "metadata": {
    "collapsed": true
   },
   "outputs": [],
   "source": [
    "## Flux\n",
    "data = read.table(\"http://astrostatistics.psu.edu/datasets/GRB_afterglow.dat\", header=T, skip=1)"
   ]
  },
  {
   "cell_type": "code",
   "execution_count": 48,
   "metadata": {
    "collapsed": false
   },
   "outputs": [
    {
     "data": {
      "text/html": [
       "<table>\n",
       "<thead><tr><th scope=col>t</th><th scope=col>f</th><th scope=col>s</th></tr></thead>\n",
       "<tbody>\n",
       "\t<tr><td>133  </td><td>122.7</td><td>5.7  </td></tr>\n",
       "\t<tr><td>143  </td><td>109.5</td><td>5.4  </td></tr>\n",
       "\t<tr><td>153  </td><td>101.4</td><td>5.2  </td></tr>\n",
       "\t<tr><td>163  </td><td> 92.0</td><td>4.9  </td></tr>\n",
       "\t<tr><td>173  </td><td> 86.8</td><td>4.8  </td></tr>\n",
       "\t<tr><td>183  </td><td> 83.7</td><td>4.7  </td></tr>\n",
       "</tbody>\n",
       "</table>\n"
      ],
      "text/latex": [
       "\\begin{tabular}{r|lll}\n",
       " t & f & s\\\\\n",
       "\\hline\n",
       "\t 133   & 122.7 & 5.7  \\\\\n",
       "\t 143   & 109.5 & 5.4  \\\\\n",
       "\t 153   & 101.4 & 5.2  \\\\\n",
       "\t 163   &  92.0 & 4.9  \\\\\n",
       "\t 173   &  86.8 & 4.8  \\\\\n",
       "\t 183   &  83.7 & 4.7  \\\\\n",
       "\\end{tabular}\n"
      ],
      "text/markdown": [
       "\n",
       "t | f | s | \n",
       "|---|---|---|---|---|---|\n",
       "| 133   | 122.7 | 5.7   | \n",
       "| 143   | 109.5 | 5.4   | \n",
       "| 153   | 101.4 | 5.2   | \n",
       "| 163   |  92.0 | 4.9   | \n",
       "| 173   |  86.8 | 4.8   | \n",
       "| 183   |  83.7 | 4.7   | \n",
       "\n",
       "\n"
      ],
      "text/plain": [
       "  t   f     s  \n",
       "1 133 122.7 5.7\n",
       "2 143 109.5 5.4\n",
       "3 153 101.4 5.2\n",
       "4 163  92.0 4.9\n",
       "5 173  86.8 4.8\n",
       "6 183  83.7 4.7"
      ]
     },
     "metadata": {},
     "output_type": "display_data"
    }
   ],
   "source": [
    "head(data)"
   ]
  },
  {
   "cell_type": "code",
   "execution_count": 70,
   "metadata": {
    "collapsed": false
   },
   "outputs": [
    {
     "data": {
      "image/png": "[encoded data removed]",
      "text/plain": [
       "Plot with title “Flux”"
      ]
     },
     "metadata": {},
     "output_type": "display_data"
    }
   ],
   "source": [
    "par(mfrow=c(1, 2))\n",
    "data.flux = data[,2]\n",
    "hist(data.flux, main='Flux', freq=F)\n",
    "lambda.est = mme.expo.cor(data.flux)\n",
    "xs = seq(min(data.flux), max(data.flux), length.out=100)\n",
    "lines(xs, dexp(xs, lambda.est))\n",
    "\n",
    "exp.sims = lapply(1:4, function(x) {rexp(200, lambda.est)})\n",
    "boxplot(c(list(data.flux), exp.sims), main='Flux', names=c('flux', rep('sim', 4)))"
   ]
  },
  {
   "cell_type": "code",
   "execution_count": 79,
   "metadata": {
    "collapsed": false
   },
   "outputs": [
    {
     "data": {
      "image/png": "[encoded data removed]",
      "text/plain": [
       "plot without title"
      ]
     },
     "metadata": {},
     "output_type": "display_data"
    }
   ],
   "source": [
    "pflux.emp = ecdf(data.flux)\n",
    "plot(data.flux, log(1 - pflux.emp(data.flux)), xlab='flux', ylab='')"
   ]
  },
  {
   "cell_type": "code",
   "execution_count": 82,
   "metadata": {
    "collapsed": false
   },
   "outputs": [
    {
     "data": {
      "image/png": "[encoded data removed]",
      "text/plain": [
       "Plot with title “Histogram of data.flux”"
      ]
     },
     "metadata": {},
     "output_type": "display_data"
    }
   ],
   "source": [
    "## Ej flux.4\n",
    "flux.lambda = mme.expo(data.flux)\n",
    "hist(data.flux, freq=F)\n",
    "xs = seq(min(data.flux), max(data.flux), length.out=100)\n",
    "lines(xs, dexp(xs, flux.lambda))"
   ]
  },
  {
   "cell_type": "code",
   "execution_count": 85,
   "metadata": {
    "collapsed": false
   },
   "outputs": [
    {
     "data": {
      "text/html": [
       "<ol class=list-inline>\n",
       "\t<li>25.9378730147922</li>\n",
       "\t<li>42.9480222233031</li>\n",
       "</ol>\n"
      ],
      "text/latex": [
       "\\begin{enumerate*}\n",
       "\\item 25.9378730147922\n",
       "\\item 42.9480222233031\n",
       "\\end{enumerate*}\n"
      ],
      "text/markdown": [
       "1. 25.9378730147922\n",
       "2. 42.9480222233031\n",
       "\n",
       "\n"
      ],
      "text/plain": [
       "[1] 25.93787 42.94802"
      ]
     },
     "metadata": {},
     "output_type": "display_data"
    }
   ],
   "source": [
    "## Ej flux.7\n",
    "mean.est = mean(data.flux)\n",
    "nivel = 0.95\n",
    "alpha = 1 - nivel\n",
    "se.hat = 1 / (sqrt(length(data.flux)) * mme.expo(data.flux))\n",
    "z = qnorm(alpha/2)\n",
    "conf.int = c(mean.est + z * se.hat, mean.est - z * se.hat)\n",
    "conf.int"
   ]
  },
  {
   "cell_type": "code",
   "execution_count": null,
   "metadata": {
    "collapsed": true
   },
   "outputs": [],
   "source": []
  }
 ],
 "metadata": {
  "anaconda-cloud": {},
  "kernelspec": {
   "display_name": "R",
   "language": "R",
   "name": "ir"
  },
  "language_info": {
   "codemirror_mode": "r",
   "file_extension": ".r",
   "mimetype": "text/x-r-source",
   "name": "R",
   "pygments_lexer": "r",
   "version": "3.3.2"
  }
 },
 "nbformat": 4,
 "nbformat_minor": 1
}
