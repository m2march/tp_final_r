{
 "cells": [
  {
   "cell_type": "markdown",
   "metadata": {},
   "source": [
    "### Estimadores"
   ]
  },
  {
   "cell_type": "code",
   "execution_count": 2,
   "metadata": {
    "collapsed": false
   },
   "outputs": [],
   "source": [
    "est_avg = function(ms) {\n",
    "    return (2 * mean(ms))\n",
    "}\n",
    "\n",
    "est_max = function(ms) {\n",
    "    return(max(ms))\n",
    "}"
   ]
  },
  {
   "cell_type": "code",
   "execution_count": 3,
   "metadata": {
    "collapsed": false
   },
   "outputs": [
    {
     "name": "stdout",
     "output_type": "stream",
     "text": [
      "[1] ext_avg 2.714  \n",
      "[1] ext_max 2.56   \n"
     ]
    }
   ],
   "source": [
    "my_ms = c(1.17,1.75,0.28,2.56,2.36,0.36,1.82,0.24,1.17,1.86)\n",
    "\n",
    "print(c('ext_avg', est_avg(my_ms)), quote=F)\n",
    "print(c('ext_max', est_max(my_ms)), quote=F)"
   ]
  },
  {
   "cell_type": "code",
   "execution_count": 40,
   "metadata": {
    "collapsed": true
   },
   "outputs": [],
   "source": [
    "Nrep = 1000\n",
    "ns = c(5, 30, 50)\n",
    "muestras = lapply(1:Nrep, function(x) runif(max(ns), 0, 3))"
   ]
  },
  {
   "cell_type": "code",
   "execution_count": 95,
   "metadata": {
    "collapsed": false
   },
   "outputs": [
    {
     "data": {
      "image/png": "[encoded data removed]",
      "text/plain": [
       "Plot with title “Hist of est_max(X_50)”"
      ]
     },
     "metadata": {},
     "output_type": "display_data"
    }
   ],
   "source": [
    "par(mfrow=c(length(ns), 2))\n",
    "for (n in ns) {\n",
    "    avgs = lapply(muestras, function(x) est_avg(x[1:n]))\n",
    "    maxs = lapply(muestras, function(x) est_max(x[1:n]))\n",
    "    hist(unlist(avgs), main=paste(c(\"Hist of est_avg(X_\", n, \")\"), sep=\"\", collapse=\"\"), freq=T)\n",
    "    hist(unlist(maxs), main=paste(c(\"Hist of est_max(X_\", n, \")\"), sep=\"\", collapse=\"\"), freq=T)\n",
    "}"
   ]
  },
  {
   "cell_type": "markdown",
   "metadata": {},
   "source": [
    "### Ejercicio 5"
   ]
  },
  {
   "cell_type": "code",
   "execution_count": 96,
   "metadata": {
    "collapsed": true
   },
   "outputs": [],
   "source": [
    "ns = c(5, 30, 50, 100, 500)\n",
    "muestras = matrix(NA, Nrep, max(ns))\n",
    "for (i in 1:Nrep) {\n",
    "    muestras[i,] = runif(max(ns), 0, 3)\n",
    "}"
   ]
  },
  {
   "cell_type": "code",
   "execution_count": 112,
   "metadata": {
    "collapsed": false
   },
   "outputs": [],
   "source": [
    "emce = function(est) sapply(ns, function(n) mean(sapply(1:Nrep, function(row) (est(muestras[row,1:n]) - 3) ** 2)))"
   ]
  },
  {
   "cell_type": "code",
   "execution_count": 113,
   "metadata": {
    "collapsed": false
   },
   "outputs": [],
   "source": [
    "emce_max = emce(est_max)\n",
    "emce_avg = emce(est_avg)"
   ]
  },
  {
   "cell_type": "code",
   "execution_count": 114,
   "metadata": {
    "collapsed": true
   },
   "outputs": [],
   "source": [
    "mses<-data.frame(rbind(emce_max,emce_avg))\n",
    "colnames(mses)<-ns\n",
    "rownames(mses)<-c(\"max\",\"avg\")"
   ]
  },
  {
   "cell_type": "code",
   "execution_count": 115,
   "metadata": {
    "collapsed": false
   },
   "outputs": [
    {
     "data": {
      "text/html": [
       "<table>\n",
       "<thead><tr><th></th><th scope=col>5</th><th scope=col>30</th><th scope=col>50</th><th scope=col>100</th><th scope=col>500</th></tr></thead>\n",
       "<tbody>\n",
       "\t<tr><th scope=row>max</th><td>0.3959037   </td><td>0.01765522  </td><td>0.006427522 </td><td>0.001745778 </td><td>0.0000772452</td></tr>\n",
       "\t<tr><th scope=row>avg</th><td>0.5970518   </td><td>0.09380441  </td><td>0.058827364 </td><td>0.030379095 </td><td>0.0058197457</td></tr>\n",
       "</tbody>\n",
       "</table>\n"
      ],
      "text/latex": [
       "\\begin{tabular}{r|lllll}\n",
       "  & 5 & 30 & 50 & 100 & 500\\\\\n",
       "\\hline\n",
       "\tmax & 0.3959037    & 0.01765522   & 0.006427522  & 0.001745778  & 0.0000772452\\\\\n",
       "\tavg & 0.5970518    & 0.09380441   & 0.058827364  & 0.030379095  & 0.0058197457\\\\\n",
       "\\end{tabular}\n"
      ],
      "text/markdown": [
       "\n",
       "| <!--/--> | 5 | 30 | 50 | 100 | 500 | \n",
       "|---|---|\n",
       "| max | 0.3959037    | 0.01765522   | 0.006427522  | 0.001745778  | 0.0000772452 | \n",
       "| avg | 0.5970518    | 0.09380441   | 0.058827364  | 0.030379095  | 0.0058197457 | \n",
       "\n",
       "\n"
      ],
      "text/plain": [
       "    5         30         50          100         500         \n",
       "max 0.3959037 0.01765522 0.006427522 0.001745778 0.0000772452\n",
       "avg 0.5970518 0.09380441 0.058827364 0.030379095 0.0058197457"
      ]
     },
     "metadata": {},
     "output_type": "display_data"
    }
   ],
   "source": [
    "mses"
   ]
  },
  {
   "cell_type": "markdown",
   "metadata": {
    "collapsed": true
   },
   "source": [
    "## Intervalos de confianza"
   ]
  },
  {
   "cell_type": "code",
   "execution_count": null,
   "metadata": {
    "collapsed": true
   },
   "outputs": [],
   "source": []
  }
 ],
 "metadata": {
  "anaconda-cloud": {},
  "kernelspec": {
   "display_name": "R",
   "language": "R",
   "name": "ir"
  },
  "language_info": {
   "codemirror_mode": "r",
   "file_extension": ".r",
   "mimetype": "text/x-r-source",
   "name": "R",
   "pygments_lexer": "r",
   "version": "3.3.2"
  }
 },
 "nbformat": 4,
 "nbformat_minor": 1
}
