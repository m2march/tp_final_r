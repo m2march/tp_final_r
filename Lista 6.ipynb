{
 "cells": [
  {
   "cell_type": "markdown",
   "metadata": {},
   "source": [
    "### Estimadores"
   ]
  },
  {
   "cell_type": "code",
   "execution_count": 1,
   "metadata": {
    "collapsed": false
   },
   "outputs": [],
   "source": [
    "est_avg = function(ms) {\n",
    "    return (2 * mean(ms))\n",
    "}\n",
    "\n",
    "est_max = function(ms) {\n",
    "    return(max(ms))\n",
    "}"
   ]
  },
  {
   "cell_type": "code",
   "execution_count": 2,
   "metadata": {
    "collapsed": false
   },
   "outputs": [
    {
     "name": "stdout",
     "output_type": "stream",
     "text": [
      "[1] ext_avg 2.714  \n",
      "[1] ext_max 2.56   \n"
     ]
    }
   ],
   "source": [
    "my_ms = c(1.17,1.75,0.28,2.56,2.36,0.36,1.82,0.24,1.17,1.86)\n",
    "\n",
    "print(c('ext_avg', est_avg(my_ms)), quote=F)\n",
    "print(c('ext_max', est_max(my_ms)), quote=F)"
   ]
  },
  {
   "cell_type": "code",
   "execution_count": 3,
   "metadata": {
    "collapsed": true
   },
   "outputs": [],
   "source": [
    "Nrep = 1000\n",
    "ns = c(5, 30, 50)\n",
    "muestras = lapply(1:Nrep, function(x) runif(max(ns), 0, 3))"
   ]
  },
  {
   "cell_type": "code",
   "execution_count": 4,
   "metadata": {
    "collapsed": false
   },
   "outputs": [
    {
     "data": {
      "image/png": "[encoded data removed]",
      "text/plain": [
       "Plot with title “Hist of est_max(X_50)”"
      ]
     },
     "metadata": {},
     "output_type": "display_data"
    }
   ],
   "source": [
    "par(mfrow=c(length(ns), 2))\n",
    "for (n in ns) {\n",
    "    avgs = lapply(muestras, function(x) est_avg(x[1:n]))\n",
    "    maxs = lapply(muestras, function(x) est_max(x[1:n]))\n",
    "    hist(unlist(avgs), main=paste(c(\"Hist of est_avg(X_\", n, \")\"), sep=\"\", collapse=\"\"), freq=T)\n",
    "    hist(unlist(maxs), main=paste(c(\"Hist of est_max(X_\", n, \")\"), sep=\"\", collapse=\"\"), freq=T)\n",
    "}"
   ]
  },
  {
   "cell_type": "markdown",
   "metadata": {},
   "source": [
    "### Ejercicio 5"
   ]
  },
  {
   "cell_type": "code",
   "execution_count": 5,
   "metadata": {
    "collapsed": true
   },
   "outputs": [],
   "source": [
    "ns = c(5, 30, 50, 100, 500)\n",
    "muestras = matrix(NA, Nrep, max(ns))\n",
    "for (i in 1:Nrep) {\n",
    "    muestras[i,] = runif(max(ns), 0, 3)\n",
    "}"
   ]
  },
  {
   "cell_type": "code",
   "execution_count": 6,
   "metadata": {
    "collapsed": false
   },
   "outputs": [],
   "source": [
    "emce = function(est) sapply(ns, function(n) mean(sapply(1:Nrep, function(row) (est(muestras[row,1:n]) - 3) ** 2)))"
   ]
  },
  {
   "cell_type": "code",
   "execution_count": 7,
   "metadata": {
    "collapsed": false
   },
   "outputs": [],
   "source": [
    "emce_max = emce(est_max)\n",
    "emce_avg = emce(est_avg)"
   ]
  },
  {
   "cell_type": "code",
   "execution_count": 8,
   "metadata": {
    "collapsed": true
   },
   "outputs": [],
   "source": [
    "mses<-data.frame(rbind(emce_max,emce_avg))\n",
    "colnames(mses)<-ns\n",
    "rownames(mses)<-c(\"max\",\"avg\")"
   ]
  },
  {
   "cell_type": "code",
   "execution_count": 9,
   "metadata": {
    "collapsed": false
   },
   "outputs": [
    {
     "data": {
      "text/html": [
       "<table>\n",
       "<thead><tr><th></th><th scope=col>5</th><th scope=col>30</th><th scope=col>50</th><th scope=col>100</th><th scope=col>500</th></tr></thead>\n",
       "<tbody>\n",
       "\t<tr><th scope=row>max</th><td>0.4014900   </td><td>0.01628165  </td><td>0.006825387 </td><td>0.001721852 </td><td>7.333126e-05</td></tr>\n",
       "\t<tr><th scope=row>avg</th><td>0.5845963   </td><td>0.10056037  </td><td>0.059615373 </td><td>0.029106906 </td><td>6.302739e-03</td></tr>\n",
       "</tbody>\n",
       "</table>\n"
      ],
      "text/latex": [
       "\\begin{tabular}{r|lllll}\n",
       "  & 5 & 30 & 50 & 100 & 500\\\\\n",
       "\\hline\n",
       "\tmax & 0.4014900    & 0.01628165   & 0.006825387  & 0.001721852  & 7.333126e-05\\\\\n",
       "\tavg & 0.5845963    & 0.10056037   & 0.059615373  & 0.029106906  & 6.302739e-03\\\\\n",
       "\\end{tabular}\n"
      ],
      "text/markdown": [
       "\n",
       "| <!--/--> | 5 | 30 | 50 | 100 | 500 | \n",
       "|---|---|\n",
       "| max | 0.4014900    | 0.01628165   | 0.006825387  | 0.001721852  | 7.333126e-05 | \n",
       "| avg | 0.5845963    | 0.10056037   | 0.059615373  | 0.029106906  | 6.302739e-03 | \n",
       "\n",
       "\n"
      ],
      "text/plain": [
       "    5         30         50          100         500         \n",
       "max 0.4014900 0.01628165 0.006825387 0.001721852 7.333126e-05\n",
       "avg 0.5845963 0.10056037 0.059615373 0.029106906 6.302739e-03"
      ]
     },
     "metadata": {},
     "output_type": "display_data"
    }
   ],
   "source": [
    "mses"
   ]
  },
  {
   "cell_type": "markdown",
   "metadata": {
    "collapsed": true
   },
   "source": [
    "## Intervalos de confianza"
   ]
  },
  {
   "cell_type": "code",
   "execution_count": 11,
   "metadata": {
    "collapsed": true
   },
   "outputs": [],
   "source": [
    "intervalo.mu.asin = function(alpha, ma) {\n",
    "    z = qnorm(alpha/2)\n",
    "    mu = mean(ma)\n",
    "    S = sqrt(sum((ma - mu) ** 2) / length(ma))\n",
    "    dev = z * S / sqrt(length(ma))\n",
    "    return(c(mu + dev, mu - dev))\n",
    "}"
   ]
  },
  {
   "cell_type": "code",
   "execution_count": 12,
   "metadata": {
    "collapsed": false
   },
   "outputs": [
    {
     "name": "stdout",
     "output_type": "stream",
     "text": [
      "[1] \"Cover\"\n"
     ]
    },
    {
     "data": {
      "text/html": [
       "<table>\n",
       "<thead><tr><th></th><th scope=col>5</th><th scope=col>10</th><th scope=col>30</th><th scope=col>50</th><th scope=col>100</th><th scope=col>1000</th></tr></thead>\n",
       "<tbody>\n",
       "\t<tr><th scope=row>0.1</th><td>0.843</td><td>0.882</td><td>0.940</td><td>0.932</td><td>0.934</td><td>0.936</td></tr>\n",
       "\t<tr><th scope=row>1</th><td>0.857</td><td>0.900</td><td>0.944</td><td>0.935</td><td>0.933</td><td>0.945</td></tr>\n",
       "\t<tr><th scope=row>10</th><td>0.849</td><td>0.901</td><td>0.934</td><td>0.948</td><td>0.940</td><td>0.953</td></tr>\n",
       "</tbody>\n",
       "</table>\n"
      ],
      "text/latex": [
       "\\begin{tabular}{r|llllll}\n",
       "  & 5 & 10 & 30 & 50 & 100 & 1000\\\\\n",
       "\\hline\n",
       "\t0.1 & 0.843 & 0.882 & 0.940 & 0.932 & 0.934 & 0.936\\\\\n",
       "\t1 & 0.857 & 0.900 & 0.944 & 0.935 & 0.933 & 0.945\\\\\n",
       "\t10 & 0.849 & 0.901 & 0.934 & 0.948 & 0.940 & 0.953\\\\\n",
       "\\end{tabular}\n"
      ],
      "text/markdown": [
       "\n",
       "| <!--/--> | 5 | 10 | 30 | 50 | 100 | 1000 | \n",
       "|---|---|---|\n",
       "| 0.1 | 0.843 | 0.882 | 0.940 | 0.932 | 0.934 | 0.936 | \n",
       "| 1 | 0.857 | 0.900 | 0.944 | 0.935 | 0.933 | 0.945 | \n",
       "| 10 | 0.849 | 0.901 | 0.934 | 0.948 | 0.940 | 0.953 | \n",
       "\n",
       "\n"
      ],
      "text/plain": [
       "    5     10    30    50    100   1000 \n",
       "0.1 0.843 0.882 0.940 0.932 0.934 0.936\n",
       "1   0.857 0.900 0.944 0.935 0.933 0.945\n",
       "10  0.849 0.901 0.934 0.948 0.940 0.953"
      ]
     },
     "metadata": {},
     "output_type": "display_data"
    },
    {
     "name": "stdout",
     "output_type": "stream",
     "text": [
      "[1] \"Longs\"\n"
     ]
    },
    {
     "data": {
      "text/html": [
       "<table>\n",
       "<thead><tr><th></th><th scope=col>5</th><th scope=col>10</th><th scope=col>30</th><th scope=col>50</th><th scope=col>100</th><th scope=col>1000</th></tr></thead>\n",
       "<tbody>\n",
       "\t<tr><th scope=row>0.1</th><td> 0.1452013</td><td> 0.1137107</td><td>0.0694329 </td><td>0.0543065 </td><td>0.03890894</td><td>0.01239059</td></tr>\n",
       "\t<tr><th scope=row>1</th><td> 1.4694504</td><td> 1.1286026</td><td>0.7046425 </td><td>0.5498671 </td><td>0.39035725</td><td>0.12380035</td></tr>\n",
       "\t<tr><th scope=row>10</th><td>14.5337340</td><td>11.4469955</td><td>6.9822199 </td><td>5.4684887 </td><td>3.88273900</td><td>1.23888907</td></tr>\n",
       "</tbody>\n",
       "</table>\n"
      ],
      "text/latex": [
       "\\begin{tabular}{r|llllll}\n",
       "  & 5 & 10 & 30 & 50 & 100 & 1000\\\\\n",
       "\\hline\n",
       "\t0.1 &  0.1452013 &  0.1137107 & 0.0694329  & 0.0543065  & 0.03890894 & 0.01239059\\\\\n",
       "\t1 &  1.4694504 &  1.1286026 & 0.7046425  & 0.5498671  & 0.39035725 & 0.12380035\\\\\n",
       "\t10 & 14.5337340 & 11.4469955 & 6.9822199  & 5.4684887  & 3.88273900 & 1.23888907\\\\\n",
       "\\end{tabular}\n"
      ],
      "text/markdown": [
       "\n",
       "| <!--/--> | 5 | 10 | 30 | 50 | 100 | 1000 | \n",
       "|---|---|---|\n",
       "| 0.1 |  0.1452013 |  0.1137107 | 0.0694329  | 0.0543065  | 0.03890894 | 0.01239059 | \n",
       "| 1 |  1.4694504 |  1.1286026 | 0.7046425  | 0.5498671  | 0.39035725 | 0.12380035 | \n",
       "| 10 | 14.5337340 | 11.4469955 | 6.9822199  | 5.4684887  | 3.88273900 | 1.23888907 | \n",
       "\n",
       "\n"
      ],
      "text/plain": [
       "    5          10         30        50        100        1000      \n",
       "0.1  0.1452013  0.1137107 0.0694329 0.0543065 0.03890894 0.01239059\n",
       "1    1.4694504  1.1286026 0.7046425 0.5498671 0.39035725 0.12380035\n",
       "10  14.5337340 11.4469955 6.9822199 5.4684887 3.88273900 1.23888907"
      ]
     },
     "metadata": {},
     "output_type": "display_data"
    }
   ],
   "source": [
    "## Ej 7\n",
    "sigmas = c(0.1, 1, 10)\n",
    "mu = 0\n",
    "alpha = 0.05\n",
    "ns = c(5, 10, 30, 50, 100, 1000)\n",
    "Nrep = 1000\n",
    "longs = data.frame(matrix(ncol=length(ns), nrow=length(sigmas)))\n",
    "cover = data.frame(matrix(ncol=length(ns), nrow=length(sigmas)))\n",
    "rownames(cover) = sigmas\n",
    "rownames(longs) = sigmas\n",
    "colnames(cover) = ns \n",
    "colnames(longs) = ns \n",
    "for (i in 1:length(sigmas)) {\n",
    "    sigma = sigmas[i] \n",
    "    for (j in 1:length(ns)) {\n",
    "        n = ns[j]\n",
    "        mas = lapply(1:Nrep, function(k) rnorm(n, mu, sigma))\n",
    "        intervalos = lapply(mas, function(ma) intervalo.mu.asin(alpha, ma))\n",
    "        cover[i,j] = mean(sapply(1:Nrep, function(k) {\n",
    "            inter = intervalos[[k]]\n",
    "            mu >= inter[1] & mu <= inter[2]\n",
    "        }))\n",
    "        all_longs = rep(0, Nrep)\n",
    "        for (idx in 1:Nrep) {\n",
    "            inter = intervalos[[idx]]\n",
    "            all_longs[idx] = inter[2] - inter[1]\n",
    "        }\n",
    "        longs[i,j] = mean(all_longs)\n",
    "    }\n",
    "}\n",
    "print('Cover')\n",
    "cover\n",
    "print('Longs')\n",
    "longs"
   ]
  },
  {
   "cell_type": "code",
   "execution_count": null,
   "metadata": {
    "collapsed": true
   },
   "outputs": [],
   "source": [
    "coverage = function(sample_fs, fs_params, inter_f, ns) {\n",
    "    \n",
    "}"
   ]
  }
 ],
 "metadata": {
  "anaconda-cloud": {},
  "kernelspec": {
   "display_name": "R",
   "language": "R",
   "name": "ir"
  },
  "language_info": {
   "codemirror_mode": "r",
   "file_extension": ".r",
   "mimetype": "text/x-r-source",
   "name": "R",
   "pygments_lexer": "r",
   "version": "3.3.2"
  }
 },
 "nbformat": 4,
 "nbformat_minor": 1
}
