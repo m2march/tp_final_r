{
 "cells": [
  {
   "cell_type": "markdown",
   "metadata": {},
   "source": [
    "### Estimadores"
   ]
  },
  {
   "cell_type": "code",
   "execution_count": 7,
   "metadata": {
    "collapsed": false
   },
   "outputs": [],
   "source": [
    "est_avg = function(ms) {\n",
    "    return (2 * mean(ms))\n",
    "}\n",
    "\n",
    "est_max = function(ms) {\n",
    "    return(max(ms))\n",
    "}"
   ]
  },
  {
   "cell_type": "code",
   "execution_count": 14,
   "metadata": {
    "collapsed": false
   },
   "outputs": [
    {
     "name": "stdout",
     "output_type": "stream",
     "text": [
      "[1] ext_avg 2.714  \n",
      "[1] ext_max 2.56   \n"
     ]
    }
   ],
   "source": [
    "my_ms = c(1.17,1.75,0.28,2.56,2.36,0.36,1.82,0.24,1.17,1.86)\n",
    "\n",
    "print(c('ext_avg', est_avg(my_ms)), quote=F)\n",
    "print(c('ext_max', est_max(my_ms)), quote=F)"
   ]
  },
  {
   "cell_type": "code",
   "execution_count": 35,
   "metadata": {
    "collapsed": false
   },
   "outputs": [],
   "source": [
    "muestras = lapply(0:50, function(idx) {return(c(runif(10, 0, 3)))})\n",
    "ns = c(5, 30, 50)"
   ]
  },
  {
   "cell_type": "code",
   "execution_count": 46,
   "metadata": {
    "collapsed": false
   },
   "outputs": [
    {
     "data": {
      "image/png": "[encoded data removed]",
      "text/plain": [
       "Plot with title “Histogram of avg_dist[[1]]”"
      ]
     },
     "metadata": {},
     "output_type": "display_data"
    }
   ],
   "source": [
    "#avg_dist = lapply(ns, function(n) {est_avg(muestras[1:n])})\n",
    "avg_dist = lapply(ns, function(n) {return(sapply(muestras[0:n], est_avg))})\n",
    "max_dist = lapply(ns, function(n) {return(sapply(muestras[0:n], est_max))})\n",
    "\n",
    "hist(avg_dist[[1]], freq=T)"
   ]
  },
  {
   "cell_type": "code",
   "execution_count": null,
   "metadata": {
    "collapsed": true
   },
   "outputs": [],
   "source": []
  }
 ],
 "metadata": {
  "anaconda-cloud": {},
  "kernelspec": {
   "display_name": "R",
   "language": "R",
   "name": "ir"
  },
  "language_info": {
   "codemirror_mode": "r",
   "file_extension": ".r",
   "mimetype": "text/x-r-source",
   "name": "R",
   "pygments_lexer": "r",
   "version": "3.3.2"
  }
 },
 "nbformat": 4,
 "nbformat_minor": 1
}
